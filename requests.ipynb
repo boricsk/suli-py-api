{
 "cells": [
  {
   "cell_type": "code",
   "execution_count": null,
   "metadata": {},
   "outputs": [],
   "source": [
    "#https://docs.python-requests.org/en/latest\n",
    "'''\n",
    "Virt. környezet létrehozása a project könyvtárban\n",
    "https://gist.github.com/umr55766/02084fd38b0426775411ab8353376c69\n",
    "\n",
    "'''\n"
   ]
  }
 ],
 "metadata": {
  "language_info": {
   "name": "python"
  },
  "orig_nbformat": 4
 },
 "nbformat": 4,
 "nbformat_minor": 2
}
